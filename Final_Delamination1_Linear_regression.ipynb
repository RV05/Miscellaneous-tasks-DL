{
  "nbformat": 4,
  "nbformat_minor": 0,
  "metadata": {
    "kernelspec": {
      "display_name": "Python 3",
      "language": "python",
      "name": "python3"
    },
    "language_info": {
      "codemirror_mode": {
        "name": "ipython",
        "version": 3
      },
      "file_extension": ".py",
      "mimetype": "text/x-python",
      "name": "python",
      "nbconvert_exporter": "python",
      "pygments_lexer": "ipython3",
      "version": "3.7.1"
    },
    "colab": {
      "name": "Final_Delamination1_Linear_regression.ipynb",
      "provenance": [],
      "collapsed_sections": [],
      "include_colab_link": true
    },
    "accelerator": "GPU"
  },
  "cells": [
    {
      "cell_type": "markdown",
      "metadata": {
        "id": "view-in-github",
        "colab_type": "text"
      },
      "source": [
        "<a href=\"https://colab.research.google.com/github/RV05/Miscellaneous-tasks-DL/blob/main/Final_Delamination1_Linear_regression.ipynb\" target=\"_parent\"><img src=\"https://colab.research.google.com/assets/colab-badge.svg\" alt=\"Open In Colab\"/></a>"
      ]
    },
    {
      "cell_type": "code",
      "metadata": {
        "id": "ZksP1cmJo5Sq"
      },
      "source": [
        "# Importing the libraries\n",
        "import numpy as np\n",
        "import pandas as pd\n",
        "from numpy import math\n",
        "\n",
        "from sklearn.preprocessing import MinMaxScaler\n",
        "from sklearn.model_selection import train_test_split\n",
        "from sklearn.linear_model import LinearRegression\n",
        "from sklearn.metrics import r2_score\n",
        "from sklearn.metrics import mean_squared_error\n",
        "import seaborn as sns\n",
        "import matplotlib.pyplot as plt\n",
        "from sklearn.model_selection import cross_val_score\n",
        "from sklearn.model_selection import KFold\n",
        "from sklearn.model_selection import GridSearchCV\n",
        "from sklearn.pipeline import make_pipeline\n",
        "import warnings\n",
        "warnings.filterwarnings('ignore')"
      ],
      "execution_count": null,
      "outputs": []
    },
    {
      "cell_type": "code",
      "metadata": {
        "colab": {
          "base_uri": "https://localhost:8080/"
        },
        "id": "gRJOHmjUeQkf",
        "outputId": "6ae2af5d-da9e-425a-a39f-1340b1095033"
      },
      "source": [
        "from google.colab import drive\n",
        "drive.mount('/content/drive')"
      ],
      "execution_count": null,
      "outputs": [
        {
          "output_type": "stream",
          "text": [
            "Mounted at /content/drive\n"
          ],
          "name": "stdout"
        }
      ]
    },
    {
      "cell_type": "code",
      "metadata": {
        "id": "bAR4dHQWWwSM"
      },
      "source": [
        "# Importing the dataset\n",
        "dataset = pd.read_csv('/content/drive/MyDrive/d_g - Sheet1.csv')"
      ],
      "execution_count": null,
      "outputs": []
    },
    {
      "cell_type": "code",
      "metadata": {
        "id": "rOFnL9SOnXdq"
      },
      "source": [
        "dataset.drop(columns=['Thrust_force','Material_removal_rate'],inplace=True)"
      ],
      "execution_count": null,
      "outputs": []
    },
    {
      "cell_type": "code",
      "metadata": {
        "id": "1GWWKqusdVsr"
      },
      "source": [
        "dataset.drop(columns='Test',inplace=True)"
      ],
      "execution_count": null,
      "outputs": []
    },
    {
      "cell_type": "code",
      "metadata": {
        "id": "_4skLCuvzfbp"
      },
      "source": [
        "numerical_features = [\"Spindle_speed\",\t\"Feed_rate\"\t,\"Point_angle\"]"
      ],
      "execution_count": null,
      "outputs": []
    },
    {
      "cell_type": "code",
      "metadata": {
        "id": "-Geb_Hbo8aE6"
      },
      "source": [
        "from scipy.stats import zscore\n",
        "#Train test split\n",
        "# numeric_cols = carprice.select_dtypes(include=[np.number]).columns\n",
        "X = dataset[numerical_features]"
      ],
      "execution_count": null,
      "outputs": []
    },
    {
      "cell_type": "code",
      "metadata": {
        "id": "xK0FJDtH85Eq"
      },
      "source": [
        "y = dataset['Delamination']"
      ],
      "execution_count": null,
      "outputs": []
    },
    {
      "cell_type": "code",
      "metadata": {
        "colab": {
          "base_uri": "https://localhost:8080/",
          "height": 204
        },
        "id": "hhsXh4sWKAgK",
        "outputId": "c62da2eb-20b5-47cd-9333-028c41b2f02d"
      },
      "source": [
        "X.head()"
      ],
      "execution_count": null,
      "outputs": [
        {
          "output_type": "execute_result",
          "data": {
            "text/html": [
              "<div>\n",
              "<style scoped>\n",
              "    .dataframe tbody tr th:only-of-type {\n",
              "        vertical-align: middle;\n",
              "    }\n",
              "\n",
              "    .dataframe tbody tr th {\n",
              "        vertical-align: top;\n",
              "    }\n",
              "\n",
              "    .dataframe thead th {\n",
              "        text-align: right;\n",
              "    }\n",
              "</style>\n",
              "<table border=\"1\" class=\"dataframe\">\n",
              "  <thead>\n",
              "    <tr style=\"text-align: right;\">\n",
              "      <th></th>\n",
              "      <th>Spindle_speed</th>\n",
              "      <th>Feed_rate</th>\n",
              "      <th>Point_angle</th>\n",
              "    </tr>\n",
              "  </thead>\n",
              "  <tbody>\n",
              "    <tr>\n",
              "      <th>0</th>\n",
              "      <td>1200</td>\n",
              "      <td>0.02</td>\n",
              "      <td>100</td>\n",
              "    </tr>\n",
              "    <tr>\n",
              "      <th>1</th>\n",
              "      <td>1200</td>\n",
              "      <td>0.06</td>\n",
              "      <td>100</td>\n",
              "    </tr>\n",
              "    <tr>\n",
              "      <th>2</th>\n",
              "      <td>1200</td>\n",
              "      <td>0.10</td>\n",
              "      <td>100</td>\n",
              "    </tr>\n",
              "    <tr>\n",
              "      <th>3</th>\n",
              "      <td>1200</td>\n",
              "      <td>0.14</td>\n",
              "      <td>100</td>\n",
              "    </tr>\n",
              "    <tr>\n",
              "      <th>4</th>\n",
              "      <td>1200</td>\n",
              "      <td>0.18</td>\n",
              "      <td>100</td>\n",
              "    </tr>\n",
              "  </tbody>\n",
              "</table>\n",
              "</div>"
            ],
            "text/plain": [
              "   Spindle_speed  Feed_rate  Point_angle\n",
              "0           1200       0.02          100\n",
              "1           1200       0.06          100\n",
              "2           1200       0.10          100\n",
              "3           1200       0.14          100\n",
              "4           1200       0.18          100"
            ]
          },
          "metadata": {
            "tags": []
          },
          "execution_count": 9
        }
      ]
    },
    {
      "cell_type": "code",
      "metadata": {
        "colab": {
          "base_uri": "https://localhost:8080/"
        },
        "id": "KAFPmjfsKDD0",
        "outputId": "2084f9cb-0e2c-4c19-a296-f1ced769cdcf"
      },
      "source": [
        "y.head()"
      ],
      "execution_count": null,
      "outputs": [
        {
          "output_type": "execute_result",
          "data": {
            "text/plain": [
              "0    1.2986\n",
              "1    1.3943\n",
              "2    1.3851\n",
              "3    1.4258\n",
              "4    1.4550\n",
              "Name: Delamination, dtype: float64"
            ]
          },
          "metadata": {
            "tags": []
          },
          "execution_count": 10
        }
      ]
    },
    {
      "cell_type": "code",
      "metadata": {
        "colab": {
          "base_uri": "https://localhost:8080/"
        },
        "id": "IkqhKjFe9BNy",
        "outputId": "c2e7a3de-963a-4336-effd-f351a39a6635"
      },
      "source": [
        "from sklearn.model_selection import train_test_split \n",
        "X_train, X_test, y_train, y_test = train_test_split( X,y , test_size = 0.2, random_state = 0) \n",
        "print(X_train.shape)\n",
        "print(X_test.shape)"
      ],
      "execution_count": null,
      "outputs": [
        {
          "output_type": "stream",
          "text": [
            "(60, 3)\n",
            "(15, 3)\n"
          ],
          "name": "stdout"
        }
      ]
    },
    {
      "cell_type": "code",
      "metadata": {
        "id": "OmqWESFO9LR2"
      },
      "source": [
        "from sklearn.linear_model import LinearRegression\n",
        "\n",
        "reg = LinearRegression().fit(X_train, y_train)"
      ],
      "execution_count": null,
      "outputs": []
    },
    {
      "cell_type": "code",
      "metadata": {
        "id": "Dx59Mt2F979e",
        "colab": {
          "base_uri": "https://localhost:8080/"
        },
        "outputId": "09786148-4d53-431d-9402-61f14eb19c6b"
      },
      "source": [
        "reg.score(X_train, y_train)"
      ],
      "execution_count": null,
      "outputs": [
        {
          "output_type": "execute_result",
          "data": {
            "text/plain": [
              "0.7135870640657132"
            ]
          },
          "metadata": {
            "tags": []
          },
          "execution_count": 13
        }
      ]
    },
    {
      "cell_type": "code",
      "metadata": {
        "colab": {
          "base_uri": "https://localhost:8080/"
        },
        "id": "GkQ0vVqDsKa1",
        "outputId": "f2813b1a-46fe-444c-fd0a-309b3f9bc38b"
      },
      "source": [
        "reg.coef_"
      ],
      "execution_count": null,
      "outputs": [
        {
          "output_type": "execute_result",
          "data": {
            "text/plain": [
              "array([3.33666368e-05, 1.04490515e+00, 1.42294844e-03])"
            ]
          },
          "metadata": {
            "tags": []
          },
          "execution_count": 14
        }
      ]
    },
    {
      "cell_type": "code",
      "metadata": {
        "id": "zlcjlrKysOA-",
        "colab": {
          "base_uri": "https://localhost:8080/"
        },
        "outputId": "a938165b-9daf-4528-d9d5-7d9ac0720239"
      },
      "source": [
        "reg.intercept_"
      ],
      "execution_count": null,
      "outputs": [
        {
          "output_type": "execute_result",
          "data": {
            "text/plain": [
              "1.0829530581235272"
            ]
          },
          "metadata": {
            "tags": []
          },
          "execution_count": 15
        }
      ]
    },
    {
      "cell_type": "code",
      "metadata": {
        "id": "rOSm_kcEqEL3"
      },
      "source": [
        "y_pred_test = reg.predict(X_test)"
      ],
      "execution_count": null,
      "outputs": []
    },
    {
      "cell_type": "code",
      "metadata": {
        "colab": {
          "base_uri": "https://localhost:8080/"
        },
        "id": "EsUVPJ57rWR3",
        "outputId": "a78bdade-509f-4cba-a1f5-559a1a1fa63a"
      },
      "source": [
        "from sklearn.metrics import mean_squared_error\n",
        "\n",
        "MSE_test  = mean_squared_error(10**(y_test), 10**(y_pred_test))\n",
        "print(\"MSE_test :\" , MSE_test)\n",
        "\n",
        "RMSE_test = np.sqrt(MSE_test)\n",
        "print(\"RMSE_test :\" ,RMSE_test)"
      ],
      "execution_count": null,
      "outputs": [
        {
          "output_type": "stream",
          "text": [
            "MSE_test : 21.23893351437484\n",
            "RMSE_test : 4.608571743433624\n"
          ],
          "name": "stdout"
        }
      ]
    },
    {
      "cell_type": "code",
      "metadata": {
        "colab": {
          "base_uri": "https://localhost:8080/"
        },
        "id": "c5lk78Xdrt3D",
        "outputId": "fa459450-2011-44b1-c054-157fa35cffae"
      },
      "source": [
        "from sklearn.metrics import r2_score\n",
        "r2_test = r2_score(10**(y_test), 10**(y_pred_test))\n",
        "print(\"R2_test :\" ,r2_test)\n",
        "print(\"Adjusted R2 Test : \",1-(1-r2_score(10**(y_test), 10**(y_pred_test)))*((X_test.shape[0]-1)/(X_test.shape[0]-X_test.shape[1]-1)))"
      ],
      "execution_count": null,
      "outputs": [
        {
          "output_type": "stream",
          "text": [
            "R2_test : 0.5840507849484422\n",
            "Adjusted R2 Test :  0.470610089934381\n"
          ],
          "name": "stdout"
        }
      ]
    },
    {
      "cell_type": "code",
      "metadata": {
        "colab": {
          "base_uri": "https://localhost:8080/",
          "height": 334
        },
        "id": "NU5A1hgFsQ9P",
        "outputId": "53e61176-17b0-4546-a7ec-8db59742cf44"
      },
      "source": [
        "plt.figure(figsize=(8,5))\n",
        "plt.plot(10**(y_pred_test))\n",
        "plt.plot(np.array(10**(y_test)))\n",
        "plt.legend([\"Predicted\",\"Actual\"])\n",
        "plt.ylabel(\"Delamination Values\")\n",
        "plt.xlabel(\"Experimental Trial\")\n",
        "plt.show()"
      ],
      "execution_count": null,
      "outputs": [
        {
          "output_type": "display_data",
          "data": {
            "image/png": "[encoded data removed]",
            "text/plain": [
              "<Figure size 576x360 with 1 Axes>"
            ]
          },
          "metadata": {
            "tags": [],
            "needs_background": "light"
          }
        }
      ]
    },
    {
      "cell_type": "code",
      "metadata": {
        "id": "7GSbxZoqd6bV"
      },
      "source": [
        "y_pred_train = reg.predict(X_train)"
      ],
      "execution_count": null,
      "outputs": []
    },
    {
      "cell_type": "code",
      "metadata": {
        "colab": {
          "base_uri": "https://localhost:8080/",
          "height": 334
        },
        "id": "6rbTzVsajiXG",
        "outputId": "43ddf4dc-8f1c-4f9c-fb5b-fe653f60c96a"
      },
      "source": [
        "plt.figure(figsize=(8,5))\n",
        "plt.plot(10**(y_pred_train))\n",
        "plt.plot(np.array(10**(y_train)))\n",
        "plt.legend([\"Predicted\",\"Actual\"])\n",
        "plt.ylabel(\"Delamination Values\")\n",
        "plt.xlabel(\"Experimental Trial\")\n",
        "plt.show()"
      ],
      "execution_count": null,
      "outputs": [
        {
          "output_type": "display_data",
          "data": {
            "image/png": "[encoded data removed]",
            "text/plain": [
              "<Figure size 576x360 with 1 Axes>"
            ]
          },
          "metadata": {
            "tags": [],
            "needs_background": "light"
          }
        }
      ]
    },
    {
      "cell_type": "code",
      "metadata": {
        "colab": {
          "base_uri": "https://localhost:8080/"
        },
        "id": "56AYca2Id6Xs",
        "outputId": "dfadd02f-6ebf-4591-dc66-1ef5414fc8b9"
      },
      "source": [
        "from sklearn.metrics import mean_squared_error\n",
        "\n",
        "MSE_train  = mean_squared_error(10**(y_train), 10**(y_pred_train))\n",
        "print(\"MSE_train :\" , MSE_train)\n",
        "\n",
        "RMSE_train = np.sqrt(MSE_train)\n",
        "print(\"RMSE_train :\" ,RMSE_train)"
      ],
      "execution_count": null,
      "outputs": [
        {
          "output_type": "stream",
          "text": [
            "MSE_train : 8.21566283903883\n",
            "RMSE_train : 2.866297758265674\n"
          ],
          "name": "stdout"
        }
      ]
    },
    {
      "cell_type": "code",
      "metadata": {
        "colab": {
          "base_uri": "https://localhost:8080/"
        },
        "id": "tS7glkUdd6Th",
        "outputId": "d145f782-5973-4408-ecc7-f591834c644f"
      },
      "source": [
        "from sklearn.metrics import r2_score\n",
        "r2_train = r2_score(10**(y_train), 10**(y_pred_train))\n",
        "print(\"R2_train :\" ,r2_train)\n",
        "print(\"Adjusted R2 train : \",1-(1-r2_score(10**(y_train), 10**(y_pred_train)))*((X_train.shape[0]-1)/(X_train.shape[0]-X_train.shape[1]-1)))"
      ],
      "execution_count": null,
      "outputs": [
        {
          "output_type": "stream",
          "text": [
            "R2_train : 0.6783081267818487\n",
            "Adjusted R2 train :  0.6610746335737334\n"
          ],
          "name": "stdout"
        }
      ]
    },
    {
      "cell_type": "code",
      "metadata": {
        "colab": {
          "base_uri": "https://localhost:8080/"
        },
        "id": "cuzQbxxzeihr",
        "outputId": "b1a5c7b0-b5de-400d-927d-33e0bf19ec59"
      },
      "source": [
        "lm = LinearRegression()\n",
        "scores = cross_val_score(lm, X_train, y_train, scoring='r2', cv=5)\n",
        "scores      "
      ],
      "execution_count": null,
      "outputs": [
        {
          "output_type": "execute_result",
          "data": {
            "text/plain": [
              "array([0.33745539, 0.44694457, 0.76866008, 0.35908883, 0.68631765])"
            ]
          },
          "metadata": {
            "tags": []
          },
          "execution_count": 22
        }
      ]
    },
    {
      "cell_type": "code",
      "metadata": {
        "colab": {
          "base_uri": "https://localhost:8080/"
        },
        "id": "QglVWA1qeicX",
        "outputId": "06262075-2be0-4994-a2d6-186d1e8a149f"
      },
      "source": [
        "scores = cross_val_score(lm, X_train, y_train, scoring='neg_mean_squared_error', cv=5)\n",
        "scores"
      ],
      "execution_count": null,
      "outputs": [
        {
          "output_type": "execute_result",
          "data": {
            "text/plain": [
              "array([-0.00189578, -0.00185883, -0.00265793, -0.00211943, -0.00177537])"
            ]
          },
          "metadata": {
            "tags": []
          },
          "execution_count": 23
        }
      ]
    },
    {
      "cell_type": "code",
      "metadata": {
        "colab": {
          "base_uri": "https://localhost:8080/"
        },
        "id": "mtfzOeBbh9z6",
        "outputId": "69ca340d-df04-4352-86a9-e48c764da6c3"
      },
      "source": [
        "scores = cross_val_score(lm, X_train, y_train, scoring='neg_root_mean_squared_error', cv=5)\n",
        "scores"
      ],
      "execution_count": null,
      "outputs": [
        {
          "output_type": "execute_result",
          "data": {
            "text/plain": [
              "array([-0.04354053, -0.04311419, -0.05155508, -0.04603728, -0.04213508])"
            ]
          },
          "metadata": {
            "tags": []
          },
          "execution_count": 24
        }
      ]
    },
    {
      "cell_type": "code",
      "metadata": {
        "colab": {
          "base_uri": "https://localhost:8080/"
        },
        "id": "qvQYO9KSeiZr",
        "outputId": "f831f5f5-f87a-46cd-e7a4-5b0244064dc3"
      },
      "source": [
        "import sklearn\n",
        "sklearn.metrics.SCORERS.keys()"
      ],
      "execution_count": null,
      "outputs": [
        {
          "output_type": "execute_result",
          "data": {
            "text/plain": [
              "dict_keys(['explained_variance', 'r2', 'max_error', 'neg_median_absolute_error', 'neg_mean_absolute_error', 'neg_mean_squared_error', 'neg_mean_squared_log_error', 'neg_root_mean_squared_error', 'neg_mean_poisson_deviance', 'neg_mean_gamma_deviance', 'accuracy', 'roc_auc', 'roc_auc_ovr', 'roc_auc_ovo', 'roc_auc_ovr_weighted', 'roc_auc_ovo_weighted', 'balanced_accuracy', 'average_precision', 'neg_log_loss', 'neg_brier_score', 'adjusted_rand_score', 'homogeneity_score', 'completeness_score', 'v_measure_score', 'mutual_info_score', 'adjusted_mutual_info_score', 'normalized_mutual_info_score', 'fowlkes_mallows_score', 'precision', 'precision_macro', 'precision_micro', 'precision_samples', 'precision_weighted', 'recall', 'recall_macro', 'recall_micro', 'recall_samples', 'recall_weighted', 'f1', 'f1_macro', 'f1_micro', 'f1_samples', 'f1_weighted', 'jaccard', 'jaccard_macro', 'jaccard_micro', 'jaccard_samples', 'jaccard_weighted'])"
            ]
          },
          "metadata": {
            "tags": []
          },
          "execution_count": 25
        }
      ]
    },
    {
      "cell_type": "code",
      "metadata": {
        "id": "Ud4RET4FTVfQ"
      },
      "source": [
        ""
      ],
      "execution_count": null,
      "outputs": []
    },
    {
      "cell_type": "code",
      "metadata": {
        "id": "MrKMLvHUTVbT"
      },
      "source": [
        ""
      ],
      "execution_count": null,
      "outputs": []
    },
    {
      "cell_type": "code",
      "metadata": {
        "id": "LsPHIJs2TVYX"
      },
      "source": [
        ""
      ],
      "execution_count": null,
      "outputs": []
    },
    {
      "cell_type": "code",
      "metadata": {
        "id": "g2PvaGAuTVVv"
      },
      "source": [
        ""
      ],
      "execution_count": null,
      "outputs": []
    },
    {
      "cell_type": "code",
      "metadata": {
        "id": "T3RZ-hHVTVTX"
      },
      "source": [
        ""
      ],
      "execution_count": null,
      "outputs": []
    },
    {
      "cell_type": "code",
      "metadata": {
        "id": "f8-zU48GTVQo"
      },
      "source": [
        ""
      ],
      "execution_count": null,
      "outputs": []
    },
    {
      "cell_type": "code",
      "metadata": {
        "id": "_nk3NNywTVNm"
      },
      "source": [
        ""
      ],
      "execution_count": null,
      "outputs": []
    },
    {
      "cell_type": "code",
      "metadata": {
        "id": "pRZR9uo4TVK-"
      },
      "source": [
        ""
      ],
      "execution_count": null,
      "outputs": []
    },
    {
      "cell_type": "code",
      "metadata": {
        "colab": {
          "base_uri": "https://localhost:8080/"
        },
        "id": "Al-ADyF_TVIB",
        "outputId": "77f9c733-9e69-4f9c-d11f-d7a0d4187c1f"
      },
      "source": [
        "from sklearn.feature_selection import RFE\n",
        "\n",
        "folds = KFold(n_splits = 5, shuffle = True, random_state = 100)\n",
        "\n",
        "# step-2: specify range of hyperparameters to tune\n",
        "hyper_params = [{'n_features_to_select': list(range(1, 4))}]\n",
        "\n",
        "\n",
        "# step-3: perform grid search\n",
        "# 3.1 specify model\n",
        "lm = LinearRegression()\n",
        "lm.fit(X_train, y_train)\n",
        "rfe = RFE(reg)             \n",
        "\n",
        "# 3.2 call GridSearchCV()\n",
        "model_cv = GridSearchCV(estimator = rfe, \n",
        "                        param_grid = hyper_params, \n",
        "                        scoring= 'r2', \n",
        "                        cv = folds, \n",
        "                        verbose = 1,\n",
        "                        return_train_score=True)      \n",
        "\n",
        "# fit the model\n",
        "model_cv.fit(X_train, y_train)                  "
      ],
      "execution_count": null,
      "outputs": [
        {
          "output_type": "stream",
          "text": [
            "Fitting 5 folds for each of 3 candidates, totalling 15 fits\n"
          ],
          "name": "stdout"
        },
        {
          "output_type": "stream",
          "text": [
            "[Parallel(n_jobs=1)]: Using backend SequentialBackend with 1 concurrent workers.\n",
            "[Parallel(n_jobs=1)]: Done  15 out of  15 | elapsed:    0.1s finished\n"
          ],
          "name": "stderr"
        },
        {
          "output_type": "execute_result",
          "data": {
            "text/plain": [
              "GridSearchCV(cv=KFold(n_splits=5, random_state=100, shuffle=True),\n",
              "             error_score=nan,\n",
              "             estimator=RFE(estimator=LinearRegression(copy_X=True,\n",
              "                                                      fit_intercept=True,\n",
              "                                                      n_jobs=None,\n",
              "                                                      normalize=False),\n",
              "                           n_features_to_select=None, step=1, verbose=0),\n",
              "             iid='deprecated', n_jobs=None,\n",
              "             param_grid=[{'n_features_to_select': [1, 2, 3]}],\n",
              "             pre_dispatch='2*n_jobs', refit=True, return_train_score=True,\n",
              "             scoring='r2', verbose=1)"
            ]
          },
          "metadata": {
            "tags": []
          },
          "execution_count": 26
        }
      ]
    },
    {
      "cell_type": "code",
      "metadata": {
        "colab": {
          "base_uri": "https://localhost:8080/",
          "height": 213
        },
        "id": "Zgkx7KnGRTRc",
        "outputId": "6bb4ecaf-3d40-4331-e0d6-b31b4c9abc8c"
      },
      "source": [
        "cv_results = pd.DataFrame(model_cv.cv_results_)\n",
        "cv_results"
      ],
      "execution_count": null,
      "outputs": [
        {
          "output_type": "execute_result",
          "data": {
            "text/html": [
              "<div>\n",
              "<style scoped>\n",
              "    .dataframe tbody tr th:only-of-type {\n",
              "        vertical-align: middle;\n",
              "    }\n",
              "\n",
              "    .dataframe tbody tr th {\n",
              "        vertical-align: top;\n",
              "    }\n",
              "\n",
              "    .dataframe thead th {\n",
              "        text-align: right;\n",
              "    }\n",
              "</style>\n",
              "<table border=\"1\" class=\"dataframe\">\n",
              "  <thead>\n",
              "    <tr style=\"text-align: right;\">\n",
              "      <th></th>\n",
              "      <th>mean_fit_time</th>\n",
              "      <th>std_fit_time</th>\n",
              "      <th>mean_score_time</th>\n",
              "      <th>std_score_time</th>\n",
              "      <th>param_n_features_to_select</th>\n",
              "      <th>params</th>\n",
              "      <th>split0_test_score</th>\n",
              "      <th>split1_test_score</th>\n",
              "      <th>split2_test_score</th>\n",
              "      <th>split3_test_score</th>\n",
              "      <th>split4_test_score</th>\n",
              "      <th>mean_test_score</th>\n",
              "      <th>std_test_score</th>\n",
              "      <th>rank_test_score</th>\n",
              "      <th>split0_train_score</th>\n",
              "      <th>split1_train_score</th>\n",
              "      <th>split2_train_score</th>\n",
              "      <th>split3_train_score</th>\n",
              "      <th>split4_train_score</th>\n",
              "      <th>mean_train_score</th>\n",
              "      <th>std_train_score</th>\n",
              "    </tr>\n",
              "  </thead>\n",
              "  <tbody>\n",
              "    <tr>\n",
              "      <th>0</th>\n",
              "      <td>0.003152</td>\n",
              "      <td>0.000568</td>\n",
              "      <td>0.001025</td>\n",
              "      <td>0.000123</td>\n",
              "      <td>1</td>\n",
              "      <td>{'n_features_to_select': 1}</td>\n",
              "      <td>0.576064</td>\n",
              "      <td>0.472784</td>\n",
              "      <td>0.543778</td>\n",
              "      <td>0.621846</td>\n",
              "      <td>0.394111</td>\n",
              "      <td>0.521717</td>\n",
              "      <td>0.080180</td>\n",
              "      <td>3</td>\n",
              "      <td>0.560680</td>\n",
              "      <td>0.604794</td>\n",
              "      <td>0.590917</td>\n",
              "      <td>0.577374</td>\n",
              "      <td>0.600190</td>\n",
              "      <td>0.586791</td>\n",
              "      <td>0.016069</td>\n",
              "    </tr>\n",
              "    <tr>\n",
              "      <th>1</th>\n",
              "      <td>0.002272</td>\n",
              "      <td>0.000295</td>\n",
              "      <td>0.000963</td>\n",
              "      <td>0.000094</td>\n",
              "      <td>2</td>\n",
              "      <td>{'n_features_to_select': 2}</td>\n",
              "      <td>0.659832</td>\n",
              "      <td>0.508849</td>\n",
              "      <td>0.689951</td>\n",
              "      <td>0.518085</td>\n",
              "      <td>0.565385</td>\n",
              "      <td>0.588420</td>\n",
              "      <td>0.073780</td>\n",
              "      <td>2</td>\n",
              "      <td>0.620894</td>\n",
              "      <td>0.674137</td>\n",
              "      <td>0.640470</td>\n",
              "      <td>0.666630</td>\n",
              "      <td>0.649794</td>\n",
              "      <td>0.650385</td>\n",
              "      <td>0.018955</td>\n",
              "    </tr>\n",
              "    <tr>\n",
              "      <th>2</th>\n",
              "      <td>0.001576</td>\n",
              "      <td>0.000166</td>\n",
              "      <td>0.000870</td>\n",
              "      <td>0.000057</td>\n",
              "      <td>3</td>\n",
              "      <td>{'n_features_to_select': 3}</td>\n",
              "      <td>0.714950</td>\n",
              "      <td>0.639259</td>\n",
              "      <td>0.617458</td>\n",
              "      <td>0.470012</td>\n",
              "      <td>0.629122</td>\n",
              "      <td>0.614160</td>\n",
              "      <td>0.079752</td>\n",
              "      <td>1</td>\n",
              "      <td>0.686147</td>\n",
              "      <td>0.723560</td>\n",
              "      <td>0.719135</td>\n",
              "      <td>0.746275</td>\n",
              "      <td>0.715172</td>\n",
              "      <td>0.718058</td>\n",
              "      <td>0.019258</td>\n",
              "    </tr>\n",
              "  </tbody>\n",
              "</table>\n",
              "</div>"
            ],
            "text/plain": [
              "   mean_fit_time  std_fit_time  ...  mean_train_score  std_train_score\n",
              "0       0.003152      0.000568  ...          0.586791         0.016069\n",
              "1       0.002272      0.000295  ...          0.650385         0.018955\n",
              "2       0.001576      0.000166  ...          0.718058         0.019258\n",
              "\n",
              "[3 rows x 21 columns]"
            ]
          },
          "metadata": {
            "tags": []
          },
          "execution_count": 27
        }
      ]
    },
    {
      "cell_type": "code",
      "metadata": {
        "colab": {
          "base_uri": "https://localhost:8080/",
          "height": 355
        },
        "id": "iL_fnVplRTOv",
        "outputId": "f56d376c-d9a0-4014-e268-a69b35e0b6ab"
      },
      "source": [
        "plt.figure(figsize=(16,6))\n",
        "\n",
        "plt.plot(cv_results[\"param_n_features_to_select\"], cv_results[\"mean_test_score\"])\n",
        "plt.plot(cv_results[\"param_n_features_to_select\"], cv_results[\"mean_train_score\"])\n",
        "plt.xlabel('number of features')\n",
        "plt.ylabel('r-squared')\n",
        "plt.title(\"Optimal Number of Features\")\n",
        "plt.legend(['test score', 'train score'], loc='upper left')"
      ],
      "execution_count": null,
      "outputs": [
        {
          "output_type": "execute_result",
          "data": {
            "text/plain": [
              "<matplotlib.legend.Legend at 0x7f0b07dd5c10>"
            ]
          },
          "metadata": {
            "tags": []
          },
          "execution_count": 28
        },
        {
          "output_type": "display_data",
          "data": {
            "image/png": "[encoded data removed]",
            "text/plain": [
              "<Figure size 1152x432 with 1 Axes>"
            ]
          },
          "metadata": {
            "tags": [],
            "needs_background": "light"
          }
        }
      ]
    },
    {
      "cell_type": "code",
      "metadata": {
        "colab": {
          "base_uri": "https://localhost:8080/"
        },
        "id": "mkFbJRFCRTLj",
        "outputId": "807828a7-e0f5-4200-c2f0-95978f04b3e5"
      },
      "source": [
        "n_features_optimal = 3\n",
        "\n",
        "lm = LinearRegression()\n",
        "lm.fit(X_train, y_train)\n",
        "\n",
        "rfe = RFE(lm, n_features_to_select=n_features_optimal)             \n",
        "rfe = rfe.fit(X_train, y_train)\n",
        "\n",
        "# predict prices of X_test\n",
        "y_pred = lm.predict(X_test)\n",
        "r2 = sklearn.metrics.r2_score(y_test, y_pred)\n",
        "print(r2)"
      ],
      "execution_count": null,
      "outputs": [
        {
          "output_type": "stream",
          "text": [
            "0.6424462605216852\n"
          ],
          "name": "stdout"
        }
      ]
    },
    {
      "cell_type": "code",
      "metadata": {
        "id": "FT5nWJqnRTIi"
      },
      "source": [
        ""
      ],
      "execution_count": null,
      "outputs": []
    },
    {
      "cell_type": "code",
      "metadata": {
        "id": "1oZj9W9RRTFd"
      },
      "source": [
        ""
      ],
      "execution_count": null,
      "outputs": []
    },
    {
      "cell_type": "code",
      "metadata": {
        "id": "P9VES6y6RTCj"
      },
      "source": [
        ""
      ],
      "execution_count": null,
      "outputs": []
    },
    {
      "cell_type": "code",
      "metadata": {
        "id": "Fm2zozqsRS_k"
      },
      "source": [
        ""
      ],
      "execution_count": null,
      "outputs": []
    },
    {
      "cell_type": "code",
      "metadata": {
        "id": "vHO6UrmJRS8c"
      },
      "source": [
        ""
      ],
      "execution_count": null,
      "outputs": []
    },
    {
      "cell_type": "code",
      "metadata": {
        "id": "CrJ12qORRLs-"
      },
      "source": [
        ""
      ],
      "execution_count": null,
      "outputs": []
    },
    {
      "cell_type": "code",
      "metadata": {
        "id": "m5QNoyLGRLqL"
      },
      "source": [
        ""
      ],
      "execution_count": null,
      "outputs": []
    },
    {
      "cell_type": "code",
      "metadata": {
        "id": "uTxPIoGPRLne"
      },
      "source": [
        ""
      ],
      "execution_count": null,
      "outputs": []
    },
    {
      "cell_type": "code",
      "metadata": {
        "id": "IDIiBh8mRLk3"
      },
      "source": [
        ""
      ],
      "execution_count": null,
      "outputs": []
    }
  ]
}